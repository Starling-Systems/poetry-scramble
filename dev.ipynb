{
 "cells": [
  {
   "cell_type": "code",
   "execution_count": 2,
   "metadata": {},
   "outputs": [],
   "source": [
    "import json\n",
    "import random\n",
    "import re\n",
    "import string\n",
    "\n",
    "sonnet_file = \"sonnets.json\"\n",
    "\n",
    "sonnet_url = \"https://fact50.net/PoetryScramble/ShakespeareSonnets.json\""
   ]
  },
  {
   "cell_type": "code",
   "execution_count": 3,
   "metadata": {},
   "outputs": [],
   "source": [
    "sonnets = json.load(open(sonnet_file))"
   ]
  },
  {
   "cell_type": "code",
   "execution_count": 4,
   "metadata": {},
   "outputs": [],
   "source": [
    "game_sonnet = random.choice(sonnets)"
   ]
  },
  {
   "cell_type": "markdown",
   "metadata": {},
   "source": [
    "## The Sonnet Shuffle"
   ]
  },
  {
   "cell_type": "code",
   "execution_count": 55,
   "metadata": {},
   "outputs": [],
   "source": [
    "shuffled_lines = game_sonnet[\"lines\"][:]\n",
    "goal_lines = shuffled_lines[:]"
   ]
  },
  {
   "cell_type": "code",
   "execution_count": 56,
   "metadata": {},
   "outputs": [],
   "source": [
    "random.shuffle(shuffled_lines)"
   ]
  },
  {
   "cell_type": "code",
   "execution_count": 57,
   "metadata": {},
   "outputs": [
    {
     "data": {
      "text/plain": [
       "['The expense of spirit in a waste of shame',\n",
       " 'Is lust in action: and till action, lust',\n",
       " \"Is perjur'd, murderous, bloody, full of blame,\",\n",
       " 'Savage, extreme, rude, cruel, not to trust;',\n",
       " \"Enjoy'd no sooner but despised straight;\",\n",
       " 'Past reason hunted; and no sooner had,',\n",
       " \"Past reason hated, as a swallow'd bait,\",\n",
       " 'On purpose laid to make the taker mad:',\n",
       " 'Mad in pursuit and in possession so;',\n",
       " 'Had, having, and in quest, to have extreme;',\n",
       " \"A bliss in proof,-- and prov'd, a very woe;\",\n",
       " \"Before, a joy propos'd; behind a dream.\",\n",
       " '  All this the world well knows; yet none knows well',\n",
       " '  To shun the heaven that leads men to this hell.']"
      ]
     },
     "execution_count": 57,
     "metadata": {},
     "output_type": "execute_result"
    }
   ],
   "source": [
    "goal_lines"
   ]
  },
  {
   "cell_type": "code",
   "execution_count": 60,
   "metadata": {},
   "outputs": [
    {
     "data": {
      "text/plain": [
       "['On purpose laid to make the taker mad:',\n",
       " \"Past reason hated, as a swallow'd bait,\",\n",
       " \"Before, a joy propos'd; behind a dream.\",\n",
       " \"Is perjur'd, murderous, bloody, full of blame,\",\n",
       " 'Had, having, and in quest, to have extreme;',\n",
       " '  All this the world well knows; yet none knows well',\n",
       " \"Enjoy'd no sooner but despised straight;\",\n",
       " 'Savage, extreme, rude, cruel, not to trust;',\n",
       " 'The expense of spirit in a waste of shame',\n",
       " 'Is lust in action: and till action, lust',\n",
       " 'Mad in pursuit and in possession so;',\n",
       " '  To shun the heaven that leads men to this hell.',\n",
       " 'Past reason hunted; and no sooner had,',\n",
       " \"A bliss in proof,-- and prov'd, a very woe;\"]"
      ]
     },
     "execution_count": 60,
     "metadata": {},
     "output_type": "execute_result"
    }
   ],
   "source": [
    "shuffled_lines"
   ]
  },
  {
   "cell_type": "code",
   "execution_count": null,
   "metadata": {},
   "outputs": [],
   "source": [
    "startoflinespace = re.compile(r\"^ *\")"
   ]
  },
  {
   "cell_type": "code",
   "execution_count": null,
   "metadata": {},
   "outputs": [],
   "source": [
    "shuffled_lines = [re.sub(startoflinespace, \"\", line) for line in shuffled_lines]"
   ]
  },
  {
   "cell_type": "markdown",
   "metadata": {},
   "source": [
    "## Sonnet Substitution"
   ]
  },
  {
   "cell_type": "code",
   "execution_count": 5,
   "metadata": {},
   "outputs": [],
   "source": [
    "def get_last_word(l: str) -> list :\n",
    "    words = l.split(\" \")\n",
    "    lastword = words[-1]\n",
    "    if lastword[-1] in string.punctuation:\n",
    "        lastpunct = lastword[-1]\n",
    "        lastword = lastword[:-1]\n",
    "    else:\n",
    "        lastpunct = \"\"\n",
    "    retwords = words[:-1]\n",
    "    retwords.append(\"___\" + lastpunct)\n",
    "    return [\" \".join(retwords), lastword]"
   ]
  },
  {
   "cell_type": "code",
   "execution_count": 6,
   "metadata": {},
   "outputs": [
    {
     "data": {
      "text/plain": [
       "['  This is a ___.', 'sentence']"
      ]
     },
     "execution_count": 6,
     "metadata": {},
     "output_type": "execute_result"
    }
   ],
   "source": [
    "get_last_word(\"  This is a sentence.\")"
   ]
  },
  {
   "cell_type": "code",
   "execution_count": 8,
   "metadata": {},
   "outputs": [],
   "source": [
    "deworded = [get_last_word(line) for line in game_sonnet[\"lines\"]]"
   ]
  },
  {
   "cell_type": "code",
   "execution_count": 9,
   "metadata": {},
   "outputs": [
    {
     "data": {
      "text/plain": [
       "[['Who will believe my verse in time to ___,', 'come'],\n",
       " [\"If it were fill'd with your most high ___?\", 'deserts'],\n",
       " ['Though yet heaven knows it is but as a ___', 'tomb'],\n",
       " ['Which hides your life, and shows not half your ___.', 'parts'],\n",
       " ['If I could write the beauty of your ___,', 'eyes'],\n",
       " ['And in fresh numbers number all your ___,', 'graces'],\n",
       " [\"The age to come would say 'This poet ___;\", 'lies'],\n",
       " [\"Such heavenly touches ne'er touch'd earthly ___'\", 'faces.'],\n",
       " [\"So should my papers, yellow'd with their ___,\", 'age'],\n",
       " [\"Be scorn'd, like old men of less truth than ___,\", 'tongue'],\n",
       " [\"And your true rights be term'd a poet's ___\", 'rage'],\n",
       " ['And stretched metre of an antique ___:', 'song'],\n",
       " ['  But were some child of yours alive that ___,', 'time'],\n",
       " ['  You should live twice,--in it, and in my ___.', 'rhyme']]"
      ]
     },
     "execution_count": 9,
     "metadata": {},
     "output_type": "execute_result"
    }
   ],
   "source": [
    "deworded"
   ]
  },
  {
   "cell_type": "code",
   "execution_count": 10,
   "metadata": {},
   "outputs": [
    {
     "data": {
      "text/plain": [
       "['parts',\n",
       " 'graces',\n",
       " 'age',\n",
       " 'rhyme',\n",
       " 'tomb',\n",
       " 'song',\n",
       " 'rage',\n",
       " 'come',\n",
       " 'lies',\n",
       " 'tongue',\n",
       " 'deserts',\n",
       " 'eyes',\n",
       " 'faces.',\n",
       " 'time']"
      ]
     },
     "execution_count": 10,
     "metadata": {},
     "output_type": "execute_result"
    }
   ],
   "source": [
    "wordpool = [l[-1] for l in deworded]\n",
    "random.shuffle(wordpool)\n",
    "wordpool"
   ]
  },
  {
   "cell_type": "code",
   "execution_count": null,
   "metadata": {},
   "outputs": [],
   "source": []
  }
 ],
 "metadata": {
  "kernelspec": {
   "display_name": "Python 3",
   "language": "python",
   "name": "python3"
  },
  "language_info": {
   "codemirror_mode": {
    "name": "ipython",
    "version": 3
   },
   "file_extension": ".py",
   "mimetype": "text/x-python",
   "name": "python",
   "nbconvert_exporter": "python",
   "pygments_lexer": "ipython3",
   "version": "3.13.1"
  }
 },
 "nbformat": 4,
 "nbformat_minor": 2
}
